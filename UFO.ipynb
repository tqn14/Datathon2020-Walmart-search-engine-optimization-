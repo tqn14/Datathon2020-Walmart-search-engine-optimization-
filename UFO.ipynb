{
 "cells": [
  {
   "cell_type": "markdown",
   "metadata": {},
   "source": [
    "This is one of my inclass assignments where we took data from a website that reports UFO incidents in Alaska from 1943 until now "
   ]
  },
  {
   "cell_type": "code",
   "execution_count": 91,
   "metadata": {},
   "outputs": [],
   "source": [
    "# your code here\n",
    "# you should use requests to get the webpage, then extract \n",
    "# the appropriate column headings and rows\n",
    "# then write this out to csv to a local file called 'ufo_alaska.csv'\n",
    "import urllib  \n",
    "\n",
    "url = \"http://www.nuforc.org/webreports/ndxlAK.html\"\n",
    "\n",
    "page = urllib.request.urlopen(url)"
   ]
  },
  {
   "cell_type": "code",
   "execution_count": 92,
   "metadata": {},
   "outputs": [],
   "source": [
    "from bs4 import BeautifulSoup \n",
    "soup = BeautifulSoup(page, 'html.parser')"
   ]
  },
  {
   "cell_type": "code",
   "execution_count": 93,
   "metadata": {
    "scrolled": true
   },
   "outputs": [],
   "source": [
    "table = soup.find_all(\"table\")\n",
    "for t in table: \n",
    "    headers = [head.get_text() for head in t.find_all('thead')]\n",
    "    rows = [] \n",
    "    for r in t.find_all('tr'): \n",
    "        rows.append([val.get_text() for val in r.find_all('td')])\n",
    "        "
   ]
  },
  {
   "cell_type": "code",
   "execution_count": 94,
   "metadata": {},
   "outputs": [],
   "source": [
    "a = list(headers[0].split('\\n'))\n",
    "header = [] \n",
    "for i in range(len(a)-1): \n",
    "    if a[i] != '': \n",
    "        header.append(a[i])\n"
   ]
  },
  {
   "cell_type": "code",
   "execution_count": 96,
   "metadata": {},
   "outputs": [],
   "source": [
    "\n",
    "import csv \n",
    "with open('ufo.csv', 'w', newline='') as file:\n",
    "    writer = csv.writer(file)\n",
    "    writer.writerow(header)\n",
    "    writer.writerows(row for row in rows if row)"
   ]
  },
  {
   "cell_type": "markdown",
   "metadata": {},
   "source": [
    "Once you have your local csv file, you should read it in and then issue the .head() command."
   ]
  },
  {
   "cell_type": "code",
   "execution_count": 450,
   "metadata": {},
   "outputs": [
    {
     "data": {
      "text/html": [
       "<div>\n",
       "<style scoped>\n",
       "    .dataframe tbody tr th:only-of-type {\n",
       "        vertical-align: middle;\n",
       "    }\n",
       "\n",
       "    .dataframe tbody tr th {\n",
       "        vertical-align: top;\n",
       "    }\n",
       "\n",
       "    .dataframe thead th {\n",
       "        text-align: right;\n",
       "    }\n",
       "</style>\n",
       "<table border=\"1\" class=\"dataframe\">\n",
       "  <thead>\n",
       "    <tr style=\"text-align: right;\">\n",
       "      <th></th>\n",
       "      <th>Date / Time</th>\n",
       "      <th>City</th>\n",
       "      <th>State</th>\n",
       "      <th>Shape</th>\n",
       "      <th>Duration</th>\n",
       "      <th>Summary</th>\n",
       "      <th>Posted</th>\n",
       "    </tr>\n",
       "  </thead>\n",
       "  <tbody>\n",
       "    <tr>\n",
       "      <th>0</th>\n",
       "      <td>8/22/20 01:00</td>\n",
       "      <td>Anchorage Ak</td>\n",
       "      <td>AK</td>\n",
       "      <td>Circle</td>\n",
       "      <td>1 minute</td>\n",
       "      <td>One craft seen much lower and moving slower th...</td>\n",
       "      <td>8/27/20</td>\n",
       "    </tr>\n",
       "    <tr>\n",
       "      <th>1</th>\n",
       "      <td>8/21/20 10:15</td>\n",
       "      <td>Anchorage</td>\n",
       "      <td>AK</td>\n",
       "      <td>Disk</td>\n",
       "      <td>10-12 minutes</td>\n",
       "      <td>Elmendorf Airbase launched 3 F-22 jets with af...</td>\n",
       "      <td>8/27/20</td>\n",
       "    </tr>\n",
       "    <tr>\n",
       "      <th>2</th>\n",
       "      <td>8/20/20 04:00</td>\n",
       "      <td>Anchorage</td>\n",
       "      <td>AK</td>\n",
       "      <td>Triangle</td>\n",
       "      <td>45 minonds</td>\n",
       "      <td>Spinning pyramid with red, green, blue lights,...</td>\n",
       "      <td>8/27/20</td>\n",
       "    </tr>\n",
       "    <tr>\n",
       "      <th>3</th>\n",
       "      <td>8/17/20 00:30</td>\n",
       "      <td>Bethel</td>\n",
       "      <td>AK</td>\n",
       "      <td>Triangle</td>\n",
       "      <td>3-4 minutes</td>\n",
       "      <td>Black Triangle UFO in Alaska</td>\n",
       "      <td>8/20/20</td>\n",
       "    </tr>\n",
       "    <tr>\n",
       "      <th>4</th>\n",
       "      <td>4/9/20 10:15</td>\n",
       "      <td>54.690   163.771</td>\n",
       "      <td>AK</td>\n",
       "      <td>Changing</td>\n",
       "      <td>8 minutes</td>\n",
       "      <td>REPORT FROM ((name deleted))    5-29-20 DATE O...</td>\n",
       "      <td>6/25/20</td>\n",
       "    </tr>\n",
       "    <tr>\n",
       "      <th>...</th>\n",
       "      <td>...</td>\n",
       "      <td>...</td>\n",
       "      <td>...</td>\n",
       "      <td>...</td>\n",
       "      <td>...</td>\n",
       "      <td>...</td>\n",
       "      <td>...</td>\n",
       "    </tr>\n",
       "    <tr>\n",
       "      <th>434</th>\n",
       "      <td>6/30/57</td>\n",
       "      <td>Arctic</td>\n",
       "      <td>AK</td>\n",
       "      <td>Cigar</td>\n",
       "      <td>one day</td>\n",
       "      <td>spacecraft found in artic between 1953 to1961 ...</td>\n",
       "      <td>8/24/10</td>\n",
       "    </tr>\n",
       "    <tr>\n",
       "      <th>435</th>\n",
       "      <td>2/1/54 02:00</td>\n",
       "      <td>Fairbanks</td>\n",
       "      <td>AK</td>\n",
       "      <td>Unknown</td>\n",
       "      <td>19 MIN.</td>\n",
       "      <td>RADAR INTERCEPT OF UFO BY USAF PILOT IN ALASKA...</td>\n",
       "      <td>1/10/09</td>\n",
       "    </tr>\n",
       "    <tr>\n",
       "      <th>436</th>\n",
       "      <td>7/1/49 11:00</td>\n",
       "      <td>Fairbanks</td>\n",
       "      <td>AK</td>\n",
       "      <td>Disk</td>\n",
       "      <td>2 minutes</td>\n",
       "      <td>Enormous metallic disc in Alaska sky, 1949.</td>\n",
       "      <td>12/23/13</td>\n",
       "    </tr>\n",
       "    <tr>\n",
       "      <th>437</th>\n",
       "      <td>4/30/43 23:00</td>\n",
       "      <td>Bering Sea</td>\n",
       "      <td>AK</td>\n",
       "      <td>Other</td>\n",
       "      <td>1 hour</td>\n",
       "      <td>1943 sighting of four linearly arranged red li...</td>\n",
       "      <td>3/19/09</td>\n",
       "    </tr>\n",
       "    <tr>\n",
       "      <th>438</th>\n",
       "      <td>NaN</td>\n",
       "      <td>Anchorage</td>\n",
       "      <td>AK</td>\n",
       "      <td>Rectangle</td>\n",
       "      <td>5 mins</td>\n",
       "      <td>Around 2 in the morning went outside on my fro...</td>\n",
       "      <td>5/14/19</td>\n",
       "    </tr>\n",
       "  </tbody>\n",
       "</table>\n",
       "<p>439 rows × 7 columns</p>\n",
       "</div>"
      ],
      "text/plain": [
       "       Date / Time              City State      Shape       Duration  \\\n",
       "0    8/22/20 01:00      Anchorage Ak    AK     Circle       1 minute   \n",
       "1    8/21/20 10:15         Anchorage    AK       Disk  10-12 minutes   \n",
       "2    8/20/20 04:00         Anchorage    AK   Triangle     45 minonds   \n",
       "3    8/17/20 00:30            Bethel    AK   Triangle    3-4 minutes   \n",
       "4     4/9/20 10:15  54.690   163.771    AK   Changing      8 minutes   \n",
       "..             ...               ...   ...        ...            ...   \n",
       "434        6/30/57            Arctic    AK      Cigar        one day   \n",
       "435   2/1/54 02:00         Fairbanks    AK    Unknown        19 MIN.   \n",
       "436   7/1/49 11:00         Fairbanks    AK       Disk      2 minutes   \n",
       "437  4/30/43 23:00        Bering Sea    AK      Other         1 hour   \n",
       "438            NaN         Anchorage    AK  Rectangle         5 mins   \n",
       "\n",
       "                                               Summary    Posted  \n",
       "0    One craft seen much lower and moving slower th...   8/27/20  \n",
       "1    Elmendorf Airbase launched 3 F-22 jets with af...   8/27/20  \n",
       "2    Spinning pyramid with red, green, blue lights,...   8/27/20  \n",
       "3                         Black Triangle UFO in Alaska   8/20/20  \n",
       "4    REPORT FROM ((name deleted))    5-29-20 DATE O...   6/25/20  \n",
       "..                                                 ...       ...  \n",
       "434  spacecraft found in artic between 1953 to1961 ...   8/24/10  \n",
       "435  RADAR INTERCEPT OF UFO BY USAF PILOT IN ALASKA...   1/10/09  \n",
       "436        Enormous metallic disc in Alaska sky, 1949.  12/23/13  \n",
       "437  1943 sighting of four linearly arranged red li...   3/19/09  \n",
       "438  Around 2 in the morning went outside on my fro...   5/14/19  \n",
       "\n",
       "[439 rows x 7 columns]"
      ]
     },
     "execution_count": 450,
     "metadata": {},
     "output_type": "execute_result"
    }
   ],
   "source": [
    "# your code here\n",
    "import pandas as pd \n",
    "df = pd.read_csv('ufo.csv', encoding = \"ISO-8859-1\")\n",
    "df_2 = df.copy()\n",
    "df"
   ]
  },
  {
   "cell_type": "code",
   "execution_count": 651,
   "metadata": {},
   "outputs": [],
   "source": [
    "import re\n",
    "import numpy as np\n"
   ]
  },
  {
   "cell_type": "code",
   "execution_count": 302,
   "metadata": {},
   "outputs": [
    {
     "data": {
      "text/html": [
       "<div>\n",
       "<style scoped>\n",
       "    .dataframe tbody tr th:only-of-type {\n",
       "        vertical-align: middle;\n",
       "    }\n",
       "\n",
       "    .dataframe tbody tr th {\n",
       "        vertical-align: top;\n",
       "    }\n",
       "\n",
       "    .dataframe thead th {\n",
       "        text-align: right;\n",
       "    }\n",
       "</style>\n",
       "<table border=\"1\" class=\"dataframe\">\n",
       "  <thead>\n",
       "    <tr style=\"text-align: right;\">\n",
       "      <th></th>\n",
       "      <th>Date / Time</th>\n",
       "      <th>City</th>\n",
       "      <th>State</th>\n",
       "      <th>Shape</th>\n",
       "      <th>Duration</th>\n",
       "      <th>Summary</th>\n",
       "      <th>Posted</th>\n",
       "    </tr>\n",
       "  </thead>\n",
       "  <tbody>\n",
       "    <tr>\n",
       "      <th>0</th>\n",
       "      <td>8/22/20 01:00</td>\n",
       "      <td>Anchorage Ak</td>\n",
       "      <td>AK</td>\n",
       "      <td>Circle</td>\n",
       "      <td>60</td>\n",
       "      <td>One craft seen much lower and moving slower th...</td>\n",
       "      <td>8/27/20</td>\n",
       "    </tr>\n",
       "    <tr>\n",
       "      <th>1</th>\n",
       "      <td>8/21/20 10:15</td>\n",
       "      <td>Anchorage</td>\n",
       "      <td>AK</td>\n",
       "      <td>Disk</td>\n",
       "      <td>0</td>\n",
       "      <td>Elmendorf Airbase launched 3 F-22 jets with af...</td>\n",
       "      <td>8/27/20</td>\n",
       "    </tr>\n",
       "    <tr>\n",
       "      <th>2</th>\n",
       "      <td>8/20/20 04:00</td>\n",
       "      <td>Anchorage</td>\n",
       "      <td>AK</td>\n",
       "      <td>Triangle</td>\n",
       "      <td>0</td>\n",
       "      <td>Spinning pyramid with red, green, blue lights,...</td>\n",
       "      <td>8/27/20</td>\n",
       "    </tr>\n",
       "    <tr>\n",
       "      <th>3</th>\n",
       "      <td>8/17/20 00:30</td>\n",
       "      <td>Bethel</td>\n",
       "      <td>AK</td>\n",
       "      <td>Triangle</td>\n",
       "      <td>0</td>\n",
       "      <td>Black Triangle UFO in Alaska</td>\n",
       "      <td>8/20/20</td>\n",
       "    </tr>\n",
       "    <tr>\n",
       "      <th>4</th>\n",
       "      <td>4/9/20 10:15</td>\n",
       "      <td>54.690   163.771</td>\n",
       "      <td>AK</td>\n",
       "      <td>Changing</td>\n",
       "      <td>480</td>\n",
       "      <td>REPORT FROM ((name deleted))    5-29-20 DATE O...</td>\n",
       "      <td>6/25/20</td>\n",
       "    </tr>\n",
       "    <tr>\n",
       "      <th>5</th>\n",
       "      <td>3/30/20 21:30</td>\n",
       "      <td>Seward</td>\n",
       "      <td>AK</td>\n",
       "      <td>Light</td>\n",
       "      <td>0</td>\n",
       "      <td>Reports from witnesses in different locations ...</td>\n",
       "      <td>6/25/20</td>\n",
       "    </tr>\n",
       "    <tr>\n",
       "      <th>6</th>\n",
       "      <td>3/30/20 01:18</td>\n",
       "      <td>Point Makenzie</td>\n",
       "      <td>AK</td>\n",
       "      <td>Light</td>\n",
       "      <td>1800</td>\n",
       "      <td>I don't know if I'm correct but, I just stare ...</td>\n",
       "      <td>6/25/20</td>\n",
       "    </tr>\n",
       "    <tr>\n",
       "      <th>7</th>\n",
       "      <td>3/23/20 12:00</td>\n",
       "      <td>Juneau</td>\n",
       "      <td>AK</td>\n",
       "      <td>Changing</td>\n",
       "      <td>1800</td>\n",
       "      <td>Yellow light craft That changes shapes over Ju...</td>\n",
       "      <td>5/21/20</td>\n",
       "    </tr>\n",
       "    <tr>\n",
       "      <th>8</th>\n",
       "      <td>3/12/20 20:57</td>\n",
       "      <td>Eagle River</td>\n",
       "      <td>AK</td>\n",
       "      <td>Circle</td>\n",
       "      <td>240</td>\n",
       "      <td>Two bright flying objects flying above Eagle R...</td>\n",
       "      <td>6/25/20</td>\n",
       "    </tr>\n",
       "    <tr>\n",
       "      <th>9</th>\n",
       "      <td>3/6/20 05:30</td>\n",
       "      <td>Point Mackenzie</td>\n",
       "      <td>AK</td>\n",
       "      <td>Unknown</td>\n",
       "      <td>0</td>\n",
       "      <td>I only heard it, it sounded like a jet at a sp...</td>\n",
       "      <td>5/1/20</td>\n",
       "    </tr>\n",
       "    <tr>\n",
       "      <th>10</th>\n",
       "      <td>2/29/20 00:00</td>\n",
       "      <td>Wasilla</td>\n",
       "      <td>AK</td>\n",
       "      <td>Triangle</td>\n",
       "      <td>0</td>\n",
       "      <td>Went to walk my dog and a UFO was not very far...</td>\n",
       "      <td>8/20/20</td>\n",
       "    </tr>\n",
       "    <tr>\n",
       "      <th>11</th>\n",
       "      <td>2/24/20 04:30</td>\n",
       "      <td>North Pole</td>\n",
       "      <td>AK</td>\n",
       "      <td>Unknown</td>\n",
       "      <td>600</td>\n",
       "      <td>Yellowish sphere, with light and a haze to it,...</td>\n",
       "      <td>2/25/20</td>\n",
       "    </tr>\n",
       "    <tr>\n",
       "      <th>12</th>\n",
       "      <td>2/15/20 19:00</td>\n",
       "      <td>Knik</td>\n",
       "      <td>AK</td>\n",
       "      <td>Oval</td>\n",
       "      <td>0</td>\n",
       "      <td>Very bright stationary light.</td>\n",
       "      <td>2/25/20</td>\n",
       "    </tr>\n",
       "    <tr>\n",
       "      <th>13</th>\n",
       "      <td>1/26/20 18:15</td>\n",
       "      <td>Kenai</td>\n",
       "      <td>AK</td>\n",
       "      <td>Egg</td>\n",
       "      <td>120</td>\n",
       "      <td>Bright Red and Orange Egg shaped crafts flying...</td>\n",
       "      <td>1/31/20</td>\n",
       "    </tr>\n",
       "    <tr>\n",
       "      <th>14</th>\n",
       "      <td>1/16/20 05:25</td>\n",
       "      <td>Deadhorse</td>\n",
       "      <td>AK</td>\n",
       "      <td>Flash</td>\n",
       "      <td>180</td>\n",
       "      <td>Hovering above buildings and moving like a hel...</td>\n",
       "      <td>2/7/20</td>\n",
       "    </tr>\n",
       "    <tr>\n",
       "      <th>15</th>\n",
       "      <td>1/2/20 01:00</td>\n",
       "      <td>Kasilof</td>\n",
       "      <td>AK</td>\n",
       "      <td>Formation</td>\n",
       "      <td>300</td>\n",
       "      <td>Four large bright red non blinking lights head...</td>\n",
       "      <td>2/7/20</td>\n",
       "    </tr>\n",
       "    <tr>\n",
       "      <th>16</th>\n",
       "      <td>12/31/19 18:30</td>\n",
       "      <td>Chugiak</td>\n",
       "      <td>AK</td>\n",
       "      <td>Fireball</td>\n",
       "      <td>600</td>\n",
       "      <td>Sphere fireball Cook Inlet/Susitna, Eklutna Al...</td>\n",
       "      <td>1/31/20</td>\n",
       "    </tr>\n",
       "    <tr>\n",
       "      <th>17</th>\n",
       "      <td>12/24/19 22:05</td>\n",
       "      <td>Anchorage</td>\n",
       "      <td>AK</td>\n",
       "      <td>Unknown</td>\n",
       "      <td>180</td>\n",
       "      <td>Three objects, evening sky, over the city of A...</td>\n",
       "      <td>2/7/20</td>\n",
       "    </tr>\n",
       "    <tr>\n",
       "      <th>18</th>\n",
       "      <td>12/13/19 04:00</td>\n",
       "      <td>Sutton</td>\n",
       "      <td>AK</td>\n",
       "      <td>Sphere</td>\n",
       "      <td>180</td>\n",
       "      <td>Don't beam me up Scotty!</td>\n",
       "      <td>12/19/19</td>\n",
       "    </tr>\n",
       "    <tr>\n",
       "      <th>19</th>\n",
       "      <td>11/11/19 07:00</td>\n",
       "      <td>Bethel</td>\n",
       "      <td>AK</td>\n",
       "      <td>Other</td>\n",
       "      <td>60</td>\n",
       "      <td>UFO as big as a football field heading west an...</td>\n",
       "      <td>2/7/20</td>\n",
       "    </tr>\n",
       "    <tr>\n",
       "      <th>20</th>\n",
       "      <td>10/31/19 19:44</td>\n",
       "      <td>Eagle River</td>\n",
       "      <td>AK</td>\n",
       "      <td>Formation</td>\n",
       "      <td>20</td>\n",
       "      <td>While coming home from work on the Old Glenn H...</td>\n",
       "      <td>12/1/19</td>\n",
       "    </tr>\n",
       "  </tbody>\n",
       "</table>\n",
       "</div>"
      ],
      "text/plain": [
       "       Date / Time              City State      Shape  Duration  \\\n",
       "0    8/22/20 01:00      Anchorage Ak    AK     Circle        60   \n",
       "1    8/21/20 10:15         Anchorage    AK       Disk         0   \n",
       "2    8/20/20 04:00         Anchorage    AK   Triangle         0   \n",
       "3    8/17/20 00:30            Bethel    AK   Triangle         0   \n",
       "4     4/9/20 10:15  54.690   163.771    AK   Changing       480   \n",
       "5    3/30/20 21:30            Seward    AK      Light         0   \n",
       "6    3/30/20 01:18    Point Makenzie    AK      Light      1800   \n",
       "7    3/23/20 12:00            Juneau    AK   Changing      1800   \n",
       "8    3/12/20 20:57       Eagle River    AK     Circle       240   \n",
       "9     3/6/20 05:30   Point Mackenzie    AK    Unknown         0   \n",
       "10   2/29/20 00:00           Wasilla    AK   Triangle         0   \n",
       "11   2/24/20 04:30        North Pole    AK    Unknown       600   \n",
       "12   2/15/20 19:00              Knik    AK       Oval         0   \n",
       "13   1/26/20 18:15             Kenai    AK        Egg       120   \n",
       "14   1/16/20 05:25         Deadhorse    AK      Flash       180   \n",
       "15    1/2/20 01:00           Kasilof    AK  Formation       300   \n",
       "16  12/31/19 18:30           Chugiak    AK   Fireball       600   \n",
       "17  12/24/19 22:05         Anchorage    AK    Unknown       180   \n",
       "18  12/13/19 04:00            Sutton    AK     Sphere       180   \n",
       "19  11/11/19 07:00            Bethel    AK      Other        60   \n",
       "20  10/31/19 19:44       Eagle River    AK  Formation        20   \n",
       "\n",
       "                                              Summary    Posted  \n",
       "0   One craft seen much lower and moving slower th...   8/27/20  \n",
       "1   Elmendorf Airbase launched 3 F-22 jets with af...   8/27/20  \n",
       "2   Spinning pyramid with red, green, blue lights,...   8/27/20  \n",
       "3                        Black Triangle UFO in Alaska   8/20/20  \n",
       "4   REPORT FROM ((name deleted))    5-29-20 DATE O...   6/25/20  \n",
       "5   Reports from witnesses in different locations ...   6/25/20  \n",
       "6   I don't know if I'm correct but, I just stare ...   6/25/20  \n",
       "7   Yellow light craft That changes shapes over Ju...   5/21/20  \n",
       "8   Two bright flying objects flying above Eagle R...   6/25/20  \n",
       "9   I only heard it, it sounded like a jet at a sp...    5/1/20  \n",
       "10  Went to walk my dog and a UFO was not very far...   8/20/20  \n",
       "11  Yellowish sphere, with light and a haze to it,...   2/25/20  \n",
       "12                      Very bright stationary light.   2/25/20  \n",
       "13  Bright Red and Orange Egg shaped crafts flying...   1/31/20  \n",
       "14  Hovering above buildings and moving like a hel...    2/7/20  \n",
       "15  Four large bright red non blinking lights head...    2/7/20  \n",
       "16  Sphere fireball Cook Inlet/Susitna, Eklutna Al...   1/31/20  \n",
       "17  Three objects, evening sky, over the city of A...    2/7/20  \n",
       "18                           Don't beam me up Scotty!  12/19/19  \n",
       "19  UFO as big as a football field heading west an...    2/7/20  \n",
       "20  While coming home from work on the Old Glenn H...   12/1/19  "
      ]
     },
     "execution_count": 302,
     "metadata": {},
     "output_type": "execute_result"
    }
   ],
   "source": [
    "# your code here \n",
    "# filter our invalid durations\n",
    "# convert all valid durations to seconds\n",
    "def convert_sec(x): \n",
    "    if len(x) > 1: \n",
    "        a = re.sub('[-]','',str(x[1]))\n",
    "        a = a.strip()\n",
    "        conversion = {'second':1,'seconds':1,'days':86400,'day':86400,'hr':3600, 'hrs':3600,\n",
    "                      'hour':3600,'hours':3600,'min': 60, 'mins':60, 'sec':1, 'secs':1,\n",
    "                      'MIN.':60, 'minute':60,'minutes':60,'weeks':604800,'week':604800}\n",
    "        if 'min' in a: \n",
    "            a = 'minute'\n",
    "        if a in conversion:\n",
    "            return (int(x[0])*conversion[a])\n",
    "def is_valid(x): \n",
    "    y = ['second','seconds','days','day','hour','hours','minute','minutes','months','month','weeks','week'] \n",
    "    z = str(x)\n",
    "    if len(z) < 3: \n",
    "        return 0 \n",
    "    else: \n",
    "        z=z.split()\n",
    "        if len(z) > 1: \n",
    "            if (z[0].isdigit()) and (z[1].strip() in y) : \n",
    "                return convert_sec(z)\n",
    "        return 0\n",
    "df_2['Duration']=df_2['Duration'].apply(is_valid)\n",
    "df_2.head(21)"
   ]
  },
  {
   "cell_type": "code",
   "execution_count": 332,
   "metadata": {},
   "outputs": [
    {
     "name": "stdout",
     "output_type": "stream",
     "text": [
      "439\n",
      "273\n"
     ]
    }
   ],
   "source": [
    "# your code here\n",
    "# total rows in original dataset\n",
    "# valid rows in your new 'validated' dataset\n",
    "print(len(df_2))\n",
    "print(len(df_2[(df_2['Duration'] > 0)]))"
   ]
  },
  {
   "cell_type": "code",
   "execution_count": 356,
   "metadata": {
    "scrolled": true
   },
   "outputs": [
    {
     "data": {
      "image/png": "[encoded data removed]",
      "text/plain": [
       "<Figure size 864x864 with 1 Axes>"
      ]
     },
     "metadata": {
      "needs_background": "light"
     },
     "output_type": "display_data"
    }
   ],
   "source": [
    "# your code here\n",
    "# boxplot code here\n",
    "fig_1 = df_2.boxplot(column=['Duration'], grid = False, figsize = (12,12))"
   ]
  },
  {
   "cell_type": "markdown",
   "metadata": {},
   "source": [
    "Zoom in the boxplot section"
   ]
  },
  {
   "cell_type": "code",
   "execution_count": 357,
   "metadata": {},
   "outputs": [
    {
     "data": {
      "image/png": "[encoded data removed]",
      "text/plain": [
       "<Figure size 864x864 with 1 Axes>"
      ]
     },
     "execution_count": 357,
     "metadata": {},
     "output_type": "execute_result"
    }
   ],
   "source": [
    "fig_1.set_ylim([0,10000])\n",
    "fig_1.figure"
   ]
  },
  {
   "cell_type": "markdown",
   "metadata": {},
   "source": [
    "Interesting. But we threw away a **lot** of data. We can do better. For this part, you will do your best to clean up the durations from your original dataset. Keep in mind some initial guidelines:\n",
    "\n",
    "* If a duration has a range, use the average as its value. For example, if the duration is listed as “6-8 minutes”, you should consider the duration as “7 minutes”. (Again, you will need to eventually convert minutes into seconds).\n",
    "* If a duration has a “<” sign, you should simply ignore the “<” sign. For example if the duration is specified as “< 1 minute”, consider the duration to be “1 minute”. You should subsequently convert “1 minute” to \"60 seconds\".\n",
    "* If a duration has a “>” sign, you should simply ignore the “>” sign. \n",
    "* You should ignore any row with an empty duration.\n",
    "\n",
    "You will probably have to improvise as you go along, so make detailed notes of what decisions you are making and why."
   ]
  },
  {
   "cell_type": "code",
   "execution_count": 333,
   "metadata": {},
   "outputs": [
    {
     "data": {
      "text/html": [
       "<div>\n",
       "<style scoped>\n",
       "    .dataframe tbody tr th:only-of-type {\n",
       "        vertical-align: middle;\n",
       "    }\n",
       "\n",
       "    .dataframe tbody tr th {\n",
       "        vertical-align: top;\n",
       "    }\n",
       "\n",
       "    .dataframe thead th {\n",
       "        text-align: right;\n",
       "    }\n",
       "</style>\n",
       "<table border=\"1\" class=\"dataframe\">\n",
       "  <thead>\n",
       "    <tr style=\"text-align: right;\">\n",
       "      <th></th>\n",
       "      <th>Date / Time</th>\n",
       "      <th>City</th>\n",
       "      <th>State</th>\n",
       "      <th>Shape</th>\n",
       "      <th>Duration</th>\n",
       "      <th>Summary</th>\n",
       "      <th>Posted</th>\n",
       "    </tr>\n",
       "  </thead>\n",
       "  <tbody>\n",
       "    <tr>\n",
       "      <th>0</th>\n",
       "      <td>8/22/20 01:00</td>\n",
       "      <td>Anchorage Ak</td>\n",
       "      <td>AK</td>\n",
       "      <td>Circle</td>\n",
       "      <td>1 minute</td>\n",
       "      <td>One craft seen much lower and moving slower th...</td>\n",
       "      <td>8/27/20</td>\n",
       "    </tr>\n",
       "    <tr>\n",
       "      <th>1</th>\n",
       "      <td>8/21/20 10:15</td>\n",
       "      <td>Anchorage</td>\n",
       "      <td>AK</td>\n",
       "      <td>Disk</td>\n",
       "      <td>10-12 minutes</td>\n",
       "      <td>Elmendorf Airbase launched 3 F-22 jets with af...</td>\n",
       "      <td>8/27/20</td>\n",
       "    </tr>\n",
       "    <tr>\n",
       "      <th>2</th>\n",
       "      <td>8/20/20 04:00</td>\n",
       "      <td>Anchorage</td>\n",
       "      <td>AK</td>\n",
       "      <td>Triangle</td>\n",
       "      <td>45 minonds</td>\n",
       "      <td>Spinning pyramid with red, green, blue lights,...</td>\n",
       "      <td>8/27/20</td>\n",
       "    </tr>\n",
       "    <tr>\n",
       "      <th>3</th>\n",
       "      <td>8/17/20 00:30</td>\n",
       "      <td>Bethel</td>\n",
       "      <td>AK</td>\n",
       "      <td>Triangle</td>\n",
       "      <td>3-4 minutes</td>\n",
       "      <td>Black Triangle UFO in Alaska</td>\n",
       "      <td>8/20/20</td>\n",
       "    </tr>\n",
       "    <tr>\n",
       "      <th>4</th>\n",
       "      <td>4/9/20 10:15</td>\n",
       "      <td>54.690   163.771</td>\n",
       "      <td>AK</td>\n",
       "      <td>Changing</td>\n",
       "      <td>8 minutes</td>\n",
       "      <td>REPORT FROM ((name deleted))    5-29-20 DATE O...</td>\n",
       "      <td>6/25/20</td>\n",
       "    </tr>\n",
       "    <tr>\n",
       "      <th>...</th>\n",
       "      <td>...</td>\n",
       "      <td>...</td>\n",
       "      <td>...</td>\n",
       "      <td>...</td>\n",
       "      <td>...</td>\n",
       "      <td>...</td>\n",
       "      <td>...</td>\n",
       "    </tr>\n",
       "    <tr>\n",
       "      <th>433</th>\n",
       "      <td>10/1/57 16:00</td>\n",
       "      <td>Nelchina (near)</td>\n",
       "      <td>AK</td>\n",
       "      <td>Unknown</td>\n",
       "      <td>3 minutes maximum</td>\n",
       "      <td>This incident occurred about October of 1956 o...</td>\n",
       "      <td>12/7/06</td>\n",
       "    </tr>\n",
       "    <tr>\n",
       "      <th>435</th>\n",
       "      <td>2/1/54 02:00</td>\n",
       "      <td>Fairbanks</td>\n",
       "      <td>AK</td>\n",
       "      <td>Unknown</td>\n",
       "      <td>19 MIN.</td>\n",
       "      <td>RADAR INTERCEPT OF UFO BY USAF PILOT IN ALASKA...</td>\n",
       "      <td>1/10/09</td>\n",
       "    </tr>\n",
       "    <tr>\n",
       "      <th>436</th>\n",
       "      <td>7/1/49 11:00</td>\n",
       "      <td>Fairbanks</td>\n",
       "      <td>AK</td>\n",
       "      <td>Disk</td>\n",
       "      <td>2 minutes</td>\n",
       "      <td>Enormous metallic disc in Alaska sky, 1949.</td>\n",
       "      <td>12/23/13</td>\n",
       "    </tr>\n",
       "    <tr>\n",
       "      <th>437</th>\n",
       "      <td>4/30/43 23:00</td>\n",
       "      <td>Bering Sea</td>\n",
       "      <td>AK</td>\n",
       "      <td>Other</td>\n",
       "      <td>1 hour</td>\n",
       "      <td>1943 sighting of four linearly arranged red li...</td>\n",
       "      <td>3/19/09</td>\n",
       "    </tr>\n",
       "    <tr>\n",
       "      <th>438</th>\n",
       "      <td>NaN</td>\n",
       "      <td>Anchorage</td>\n",
       "      <td>AK</td>\n",
       "      <td>Rectangle</td>\n",
       "      <td>5 mins</td>\n",
       "      <td>Around 2 in the morning went outside on my fro...</td>\n",
       "      <td>5/14/19</td>\n",
       "    </tr>\n",
       "  </tbody>\n",
       "</table>\n",
       "<p>399 rows × 7 columns</p>\n",
       "</div>"
      ],
      "text/plain": [
       "       Date / Time              City State      Shape           Duration  \\\n",
       "0    8/22/20 01:00      Anchorage Ak    AK     Circle           1 minute   \n",
       "1    8/21/20 10:15         Anchorage    AK       Disk      10-12 minutes   \n",
       "2    8/20/20 04:00         Anchorage    AK   Triangle         45 minonds   \n",
       "3    8/17/20 00:30            Bethel    AK   Triangle        3-4 minutes   \n",
       "4     4/9/20 10:15  54.690   163.771    AK   Changing          8 minutes   \n",
       "..             ...               ...   ...        ...                ...   \n",
       "433  10/1/57 16:00   Nelchina (near)    AK    Unknown  3 minutes maximum   \n",
       "435   2/1/54 02:00         Fairbanks    AK    Unknown            19 MIN.   \n",
       "436   7/1/49 11:00         Fairbanks    AK       Disk          2 minutes   \n",
       "437  4/30/43 23:00        Bering Sea    AK      Other             1 hour   \n",
       "438            NaN         Anchorage    AK  Rectangle             5 mins   \n",
       "\n",
       "                                               Summary    Posted  \n",
       "0    One craft seen much lower and moving slower th...   8/27/20  \n",
       "1    Elmendorf Airbase launched 3 F-22 jets with af...   8/27/20  \n",
       "2    Spinning pyramid with red, green, blue lights,...   8/27/20  \n",
       "3                         Black Triangle UFO in Alaska   8/20/20  \n",
       "4    REPORT FROM ((name deleted))    5-29-20 DATE O...   6/25/20  \n",
       "..                                                 ...       ...  \n",
       "433  This incident occurred about October of 1956 o...   12/7/06  \n",
       "435  RADAR INTERCEPT OF UFO BY USAF PILOT IN ALASKA...   1/10/09  \n",
       "436        Enormous metallic disc in Alaska sky, 1949.  12/23/13  \n",
       "437  1943 sighting of four linearly arranged red li...   3/19/09  \n",
       "438  Around 2 in the morning went outside on my fro...   5/14/19  \n",
       "\n",
       "[399 rows x 7 columns]"
      ]
     },
     "execution_count": 333,
     "metadata": {},
     "output_type": "execute_result"
    }
   ],
   "source": [
    "#replace > < @ + \n",
    "df['Duration']=df['Duration'].str.replace('[>\\<\\@\\+\\~\\?]','')\n",
    "df_3 = df.copy()\n",
    "#create a copy of the original df for freedom of use\n",
    "df_3[df_3['Duration'].notnull() == True]\n",
    "df_3['Duration'] = df_3['Duration'].astype(str)\n",
    "df_3 = df_3[df_3['Duration'].apply(lambda x: any(map(str.isdigit, x))) == True]\n",
    "df_3"
   ]
  },
  {
   "cell_type": "markdown",
   "metadata": {},
   "source": [
    "There are only 399 rows out of 439 rows that have a valid duration (meaning there is at least a digit with a valid time unit in that row, any row that has things like 'instant' or NaN would be filtered out)"
   ]
  },
  {
   "cell_type": "code",
   "execution_count": 337,
   "metadata": {},
   "outputs": [],
   "source": [
    "#function to calculate average in duration\n",
    "def avg_digit(x): \n",
    "    a = [int(i) for i in re.findall(r\"\\d+\", x)]  #find all digits in the str duration \n",
    "    mean = [np.mean(a)]                          #get average\n",
    "    text = re.sub(r\"\\d\", \"\", x)                   \n",
    "    mean.append(text)                           #create a list of digit and tex\n",
    "    return convert_sec(mean)\n"
   ]
  },
  {
   "cell_type": "code",
   "execution_count": 334,
   "metadata": {
    "scrolled": true
   },
   "outputs": [],
   "source": [
    "df_3['Duration'] = df_3['Duration'].apply(avg_digit)\n"
   ]
  },
  {
   "cell_type": "code",
   "execution_count": 335,
   "metadata": {},
   "outputs": [
    {
     "data": {
      "text/html": [
       "<div>\n",
       "<style scoped>\n",
       "    .dataframe tbody tr th:only-of-type {\n",
       "        vertical-align: middle;\n",
       "    }\n",
       "\n",
       "    .dataframe tbody tr th {\n",
       "        vertical-align: top;\n",
       "    }\n",
       "\n",
       "    .dataframe thead th {\n",
       "        text-align: right;\n",
       "    }\n",
       "</style>\n",
       "<table border=\"1\" class=\"dataframe\">\n",
       "  <thead>\n",
       "    <tr style=\"text-align: right;\">\n",
       "      <th></th>\n",
       "      <th>Date / Time</th>\n",
       "      <th>City</th>\n",
       "      <th>State</th>\n",
       "      <th>Shape</th>\n",
       "      <th>Duration</th>\n",
       "      <th>Summary</th>\n",
       "      <th>Posted</th>\n",
       "    </tr>\n",
       "  </thead>\n",
       "  <tbody>\n",
       "    <tr>\n",
       "      <th>0</th>\n",
       "      <td>8/22/20 01:00</td>\n",
       "      <td>Anchorage Ak</td>\n",
       "      <td>AK</td>\n",
       "      <td>Circle</td>\n",
       "      <td>60.0</td>\n",
       "      <td>One craft seen much lower and moving slower th...</td>\n",
       "      <td>8/27/20</td>\n",
       "    </tr>\n",
       "    <tr>\n",
       "      <th>1</th>\n",
       "      <td>8/21/20 10:15</td>\n",
       "      <td>Anchorage</td>\n",
       "      <td>AK</td>\n",
       "      <td>Disk</td>\n",
       "      <td>660.0</td>\n",
       "      <td>Elmendorf Airbase launched 3 F-22 jets with af...</td>\n",
       "      <td>8/27/20</td>\n",
       "    </tr>\n",
       "    <tr>\n",
       "      <th>2</th>\n",
       "      <td>8/20/20 04:00</td>\n",
       "      <td>Anchorage</td>\n",
       "      <td>AK</td>\n",
       "      <td>Triangle</td>\n",
       "      <td>2700.0</td>\n",
       "      <td>Spinning pyramid with red, green, blue lights,...</td>\n",
       "      <td>8/27/20</td>\n",
       "    </tr>\n",
       "    <tr>\n",
       "      <th>3</th>\n",
       "      <td>8/17/20 00:30</td>\n",
       "      <td>Bethel</td>\n",
       "      <td>AK</td>\n",
       "      <td>Triangle</td>\n",
       "      <td>180.0</td>\n",
       "      <td>Black Triangle UFO in Alaska</td>\n",
       "      <td>8/20/20</td>\n",
       "    </tr>\n",
       "    <tr>\n",
       "      <th>4</th>\n",
       "      <td>4/9/20 10:15</td>\n",
       "      <td>54.690   163.771</td>\n",
       "      <td>AK</td>\n",
       "      <td>Changing</td>\n",
       "      <td>480.0</td>\n",
       "      <td>REPORT FROM ((name deleted))    5-29-20 DATE O...</td>\n",
       "      <td>6/25/20</td>\n",
       "    </tr>\n",
       "    <tr>\n",
       "      <th>...</th>\n",
       "      <td>...</td>\n",
       "      <td>...</td>\n",
       "      <td>...</td>\n",
       "      <td>...</td>\n",
       "      <td>...</td>\n",
       "      <td>...</td>\n",
       "      <td>...</td>\n",
       "    </tr>\n",
       "    <tr>\n",
       "      <th>433</th>\n",
       "      <td>10/1/57 16:00</td>\n",
       "      <td>Nelchina (near)</td>\n",
       "      <td>AK</td>\n",
       "      <td>Unknown</td>\n",
       "      <td>180.0</td>\n",
       "      <td>This incident occurred about October of 1956 o...</td>\n",
       "      <td>12/7/06</td>\n",
       "    </tr>\n",
       "    <tr>\n",
       "      <th>435</th>\n",
       "      <td>2/1/54 02:00</td>\n",
       "      <td>Fairbanks</td>\n",
       "      <td>AK</td>\n",
       "      <td>Unknown</td>\n",
       "      <td>1140.0</td>\n",
       "      <td>RADAR INTERCEPT OF UFO BY USAF PILOT IN ALASKA...</td>\n",
       "      <td>1/10/09</td>\n",
       "    </tr>\n",
       "    <tr>\n",
       "      <th>436</th>\n",
       "      <td>7/1/49 11:00</td>\n",
       "      <td>Fairbanks</td>\n",
       "      <td>AK</td>\n",
       "      <td>Disk</td>\n",
       "      <td>120.0</td>\n",
       "      <td>Enormous metallic disc in Alaska sky, 1949.</td>\n",
       "      <td>12/23/13</td>\n",
       "    </tr>\n",
       "    <tr>\n",
       "      <th>437</th>\n",
       "      <td>4/30/43 23:00</td>\n",
       "      <td>Bering Sea</td>\n",
       "      <td>AK</td>\n",
       "      <td>Other</td>\n",
       "      <td>3600.0</td>\n",
       "      <td>1943 sighting of four linearly arranged red li...</td>\n",
       "      <td>3/19/09</td>\n",
       "    </tr>\n",
       "    <tr>\n",
       "      <th>438</th>\n",
       "      <td>NaN</td>\n",
       "      <td>Anchorage</td>\n",
       "      <td>AK</td>\n",
       "      <td>Rectangle</td>\n",
       "      <td>300.0</td>\n",
       "      <td>Around 2 in the morning went outside on my fro...</td>\n",
       "      <td>5/14/19</td>\n",
       "    </tr>\n",
       "  </tbody>\n",
       "</table>\n",
       "<p>399 rows × 7 columns</p>\n",
       "</div>"
      ],
      "text/plain": [
       "       Date / Time              City State      Shape  Duration  \\\n",
       "0    8/22/20 01:00      Anchorage Ak    AK     Circle      60.0   \n",
       "1    8/21/20 10:15         Anchorage    AK       Disk     660.0   \n",
       "2    8/20/20 04:00         Anchorage    AK   Triangle    2700.0   \n",
       "3    8/17/20 00:30            Bethel    AK   Triangle     180.0   \n",
       "4     4/9/20 10:15  54.690   163.771    AK   Changing     480.0   \n",
       "..             ...               ...   ...        ...       ...   \n",
       "433  10/1/57 16:00   Nelchina (near)    AK    Unknown     180.0   \n",
       "435   2/1/54 02:00         Fairbanks    AK    Unknown    1140.0   \n",
       "436   7/1/49 11:00         Fairbanks    AK       Disk     120.0   \n",
       "437  4/30/43 23:00        Bering Sea    AK      Other    3600.0   \n",
       "438            NaN         Anchorage    AK  Rectangle     300.0   \n",
       "\n",
       "                                               Summary    Posted  \n",
       "0    One craft seen much lower and moving slower th...   8/27/20  \n",
       "1    Elmendorf Airbase launched 3 F-22 jets with af...   8/27/20  \n",
       "2    Spinning pyramid with red, green, blue lights,...   8/27/20  \n",
       "3                         Black Triangle UFO in Alaska   8/20/20  \n",
       "4    REPORT FROM ((name deleted))    5-29-20 DATE O...   6/25/20  \n",
       "..                                                 ...       ...  \n",
       "433  This incident occurred about October of 1956 o...   12/7/06  \n",
       "435  RADAR INTERCEPT OF UFO BY USAF PILOT IN ALASKA...   1/10/09  \n",
       "436        Enormous metallic disc in Alaska sky, 1949.  12/23/13  \n",
       "437  1943 sighting of four linearly arranged red li...   3/19/09  \n",
       "438  Around 2 in the morning went outside on my fro...   5/14/19  \n",
       "\n",
       "[399 rows x 7 columns]"
      ]
     },
     "execution_count": 335,
     "metadata": {},
     "output_type": "execute_result"
    }
   ],
   "source": [
    "df_3"
   ]
  },
  {
   "cell_type": "code",
   "execution_count": 336,
   "metadata": {},
   "outputs": [
    {
     "name": "stdout",
     "output_type": "stream",
     "text": [
      "439\n",
      "372\n"
     ]
    }
   ],
   "source": [
    "# your code here\n",
    "# total rows in original dataset\n",
    "# valid rows in your cleaned dataset\n",
    "print(len(df))\n",
    "print(len(df_3[(df_3['Duration'].notnull() == True)]))"
   ]
  },
  {
   "cell_type": "code",
   "execution_count": 341,
   "metadata": {},
   "outputs": [],
   "source": [
    "import matplotlib.pyplot as plt\n"
   ]
  },
  {
   "cell_type": "code",
   "execution_count": null,
   "metadata": {},
   "outputs": [],
   "source": [
    "# your code here\n",
    "# total rows in original dataset\n",
    "# valid rows in your cleaned dataset"
   ]
  },
  {
   "cell_type": "code",
   "execution_count": 350,
   "metadata": {},
   "outputs": [
    {
     "data": {
      "image/png": "[encoded data removed]",
      "text/plain": [
       "<Figure size 864x864 with 1 Axes>"
      ]
     },
     "metadata": {
      "needs_background": "light"
     },
     "output_type": "display_data"
    }
   ],
   "source": [
    "# your code here\n",
    "# draw a boxplot for your cleaned dataset\n",
    "fig = df_3.boxplot(column=['Duration'], grid = False, figsize = (12,12))\n"
   ]
  },
  {
   "cell_type": "code",
   "execution_count": 359,
   "metadata": {},
   "outputs": [
    {
     "data": {
      "image/png": "[encoded data removed]",
      "text/plain": [
       "<Figure size 864x864 with 1 Axes>"
      ]
     },
     "execution_count": 359,
     "metadata": {},
     "output_type": "execute_result"
    }
   ],
   "source": [
    "fig.set_ylim([0,10000])\n",
    "fig.figure\n"
   ]
  },
  {
   "cell_type": "markdown",
   "metadata": {},
   "source": [
    "Now, revisit your two boxplots -- for the initial \"valid\" dataset and then for your cleaned dataset. What do you observe? What differences does cleaning have? Would you imagine your downstream analyses would be affected by this cleaning step? Explain."
   ]
  },
  {
   "cell_type": "markdown",
   "metadata": {},
   "source": [
    "`Discussion: Add your discussion here`"
   ]
  },
  {
   "cell_type": "markdown",
   "metadata": {},
   "source": [
    "Comparing these two boxplots, I can see that both have outliers. However, the first one has a very skewed distribution and a lot more outliers than the second one. The median of the first boxplot is near 0, which shows that 50% of the duration was really short, while that of the second one lies at approx. 100 secs after being cleaned. \n",
    "It shows the importance of a clean dataset. Without cleaning, there would be a significant margin of error if further analyses are done"
   ]
  },
  {
   "cell_type": "markdown",
   "metadata": {},
   "source": [
    "## (30 points) Part 3: Aliens, aliens everywhere.\n",
    "Finally, let's begin our initial analysis of the cleaned UFO dataset. In this section, we're going to do some plotting with matplotlib and draw some initial conclusions that may guide our future study of this UFO dataset. \n",
    "\n",
    "Which **shapes** are most observed?"
   ]
  },
  {
   "cell_type": "markdown",
   "metadata": {},
   "source": [
    "###### Do different UFO shapes have different durations?"
   ]
  },
  {
   "cell_type": "code",
   "execution_count": 607,
   "metadata": {
    "scrolled": true
   },
   "outputs": [
    {
     "data": {
      "text/plain": [
       "Light        103\n",
       "Circle        53\n",
       "Triangle      35\n",
       "Unknown       31\n",
       "Disk          30\n",
       "Fireball      29\n",
       "Sphere        27\n",
       "Other         22\n",
       "Oval          19\n",
       "Flash         15\n",
       "Formation     14\n",
       "Changing      11\n",
       "Rectangle      9\n",
       "Cylinder       8\n",
       "Diamond        8\n",
       "Cigar          7\n",
       "Cone           1\n",
       "Teardrop       1\n",
       "Cross          1\n",
       "Egg            1\n",
       "Chevron        1\n",
       "Name: Shape, dtype: int64"
      ]
     },
     "execution_count": 607,
     "metadata": {},
     "output_type": "execute_result"
    }
   ],
   "source": [
    "a=df['Shape'].value_counts()\n",
    "a\n"
   ]
  },
  {
   "cell_type": "markdown",
   "metadata": {},
   "source": [
    "Shapes most observed are \"Light\", \"Circle\", \"Triangle\", \"Unknown\", \"Disk\", which are the most common descriptions of UFOs"
   ]
  },
  {
   "cell_type": "code",
   "execution_count": 616,
   "metadata": {
    "scrolled": true
   },
   "outputs": [
    {
     "data": {
      "text/plain": [
       "['Light',\n",
       " 'Circle',\n",
       " 'Triangle',\n",
       " 'Unknown',\n",
       " 'Disk',\n",
       " 'Fireball',\n",
       " 'Sphere',\n",
       " 'Other',\n",
       " 'Oval',\n",
       " 'Formation',\n",
       " 'Flash',\n",
       " 'Changing',\n",
       " 'Rectangle',\n",
       " 'Cylinder',\n",
       " 'Diamond',\n",
       " 'Cigar',\n",
       " 'Teardrop',\n",
       " 'Cross',\n",
       " 'Egg',\n",
       " 'Chevron']"
      ]
     },
     "execution_count": 616,
     "metadata": {},
     "output_type": "execute_result"
    }
   ],
   "source": [
    "shape = []\n",
    "b = df_3[\"Shape\"].value_counts()\n",
    "for k, v in b.items():\n",
    "    shape.append(k)\n",
    "shape\n"
   ]
  },
  {
   "cell_type": "markdown",
   "metadata": {},
   "source": [
    "use the filter dataset to get duration but plot with the original dataset for the most accurate count of shapes"
   ]
  },
  {
   "cell_type": "code",
   "execution_count": 606,
   "metadata": {},
   "outputs": [
    {
     "data": {
      "text/plain": [
       "Text(0.5, 0, 'shapes')"
      ]
     },
     "execution_count": 606,
     "metadata": {},
     "output_type": "execute_result"
    },
    {
     "data": {
      "image/png": "[encoded data removed]",
      "text/plain": [
       "<Figure size 864x576 with 1 Axes>"
      ]
     },
     "metadata": {
      "needs_background": "light"
     },
     "output_type": "display_data"
    }
   ],
   "source": [
    "plt.figure(figsize=(12,8))\n",
    "df['Shape'].value_counts().plot(kind='bar')\n",
    "plt.ylabel('counts')\n",
    "plt.xlabel('shapes')"
   ]
  },
  {
   "cell_type": "code",
   "execution_count": 652,
   "metadata": {},
   "outputs": [
    {
     "data": {
      "text/plain": [
       "Text(0, 0.5, 'duration')"
      ]
     },
     "execution_count": 652,
     "metadata": {},
     "output_type": "execute_result"
    },
    {
     "data": {
      "image/png": "[encoded data removed]",
      "text/plain": [
       "<Figure size 1440x576 with 1 Axes>"
      ]
     },
     "metadata": {
      "needs_background": "light"
     },
     "output_type": "display_data"
    }
   ],
   "source": [
    "# your code here\n",
    "# create a plot of shapes/duration\n",
    "plt.figure(figsize=(20,8))\n",
    "duration = {}\n",
    "df_4 = df_3.groupby([\"Shape\",'Duration']).size()\n",
    "for j in shape: \n",
    "    value = 0\n",
    "    for k,v in df_4[j].items():\n",
    "        value += k*v\n",
    "    duration[j] = value \n",
    "plt.bar(duration.keys(), duration.values())\n",
    "plt.xlabel(\"shapes\")\n",
    "plt.ylabel(\"duration\")"
   ]
  },
  {
   "cell_type": "markdown",
   "metadata": {},
   "source": [
    "Are there more UFO sightings in recent years than in the past?"
   ]
  },
  {
   "cell_type": "code",
   "execution_count": 650,
   "metadata": {},
   "outputs": [
    {
     "data": {
      "text/plain": [
       "Date / Time\n",
       "1943.0     1\n",
       "1949.0     1\n",
       "1954.0     1\n",
       "1957.0     2\n",
       "1966.0     1\n",
       "1967.0     1\n",
       "1968.0     1\n",
       "1969.0     1\n",
       "1974.0     1\n",
       "1976.0     1\n",
       "1977.0     1\n",
       "1978.0     3\n",
       "1983.0     1\n",
       "1986.0     3\n",
       "1987.0     1\n",
       "1988.0     1\n",
       "1989.0     1\n",
       "1995.0     2\n",
       "1996.0     1\n",
       "1997.0     1\n",
       "1998.0     2\n",
       "2000.0     2\n",
       "2001.0     2\n",
       "2002.0     1\n",
       "2003.0     2\n",
       "2004.0     2\n",
       "2005.0     6\n",
       "2006.0    13\n",
       "2007.0     8\n",
       "2008.0    15\n",
       "2009.0    17\n",
       "2010.0    16\n",
       "2011.0    18\n",
       "2012.0    48\n",
       "2013.0    53\n",
       "2014.0    43\n",
       "2015.0    39\n",
       "2016.0    43\n",
       "2017.0    21\n",
       "2018.0    25\n",
       "2019.0    20\n",
       "2020.0    16\n",
       "dtype: int64"
      ]
     },
     "execution_count": 650,
     "metadata": {},
     "output_type": "execute_result"
    }
   ],
   "source": [
    "# your code her\n",
    "# you might want to bucket the sightings into years\n",
    "# or perhaps you have some other ideas. we are flexible.\n",
    "df[\"Date / Time\"] = pd.to_datetime(df[\"Date / Time\"])\\\n",
    "\n",
    "year = pd.datetime.today().year\n",
    "\n",
    "df[\"Date / Time\"].loc[df[\"Date / Time\"].dt.year.gt(year)] -= pd.DateOffset(years=100)\n",
    "\n",
    "a = df.groupby(df[\"Date / Time\"].dt.year).size()\n",
    "a"
   ]
  },
  {
   "cell_type": "code",
   "execution_count": 649,
   "metadata": {},
   "outputs": [
    {
     "data": {
      "text/plain": [
       "[<matplotlib.lines.Line2D at 0x12a316d0>]"
      ]
     },
     "execution_count": 649,
     "metadata": {},
     "output_type": "execute_result"
    },
    {
     "data": {
      "image/png": "[encoded data removed]",
      "text/plain": [
       "<Figure size 432x288 with 1 Axes>"
      ]
     },
     "metadata": {
      "needs_background": "light"
     },
     "output_type": "display_data"
    }
   ],
   "source": [
    "plt.plot(a.index, a.values)"
   ]
  },
  {
   "cell_type": "markdown",
   "metadata": {},
   "source": [
    "There was a sharp increase in UFO sightings in AK from 2006 to 2015. Since then, the trend seems to go down every year."
   ]
  },
  {
   "cell_type": "markdown",
   "metadata": {},
   "source": [
    "Based on your observations and analyses, what are some important next steps we should take?"
   ]
  },
  {
   "cell_type": "markdown",
   "metadata": {},
   "source": [
    "`Discussion: Add your discussion here`"
   ]
  },
  {
   "cell_type": "markdown",
   "metadata": {},
   "source": [
    "- We can group the data based on location observed (cities). It is likely that people tend to catch sight of more UFOs in the rural areas than in cities, towns.. \n",
    "\n",
    "- There are some typos and punctuation which can be fixed \n",
    "\n",
    "- We can filter out unwanted outlier (there is a chance that an UFO could not have showed up for the whole 2 days) \n",
    "\n",
    "- Finally can perform some statistical inference on some of the columns such as \"Duration\" and \"shape\""
   ]
  }
 ],
 "metadata": {
  "anaconda-cloud": {},
  "kernelspec": {
   "display_name": "Python 3",
   "language": "python",
   "name": "python3"
  },
  "language_info": {
   "codemirror_mode": {
    "name": "ipython",
    "version": 3
   },
   "file_extension": ".py",
   "mimetype": "text/x-python",
   "name": "python",
   "nbconvert_exporter": "python",
   "pygments_lexer": "ipython3",
   "version": "3.7.5"
  }
 },
 "nbformat": 4,
 "nbformat_minor": 1
}
